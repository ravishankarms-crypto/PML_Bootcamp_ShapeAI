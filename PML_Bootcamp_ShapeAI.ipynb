{
  "nbformat": 4,
  "nbformat_minor": 0,
  "metadata": {
    "colab": {
      "name": "Untitled0.ipynb",
      "provenance": []
    },
    "kernelspec": {
      "name": "python3",
      "display_name": "Python 3"
    },
    "language_info": {
      "name": "python"
    }
  },
  "cells": [
    {
      "cell_type": "code",
      "metadata": {
        "colab": {
          "base_uri": "https://localhost:8080/"
        },
        "id": "6gUeH6o-IRCp",
        "outputId": "ed034c87-9b85-4c74-82b0-8bf6455536bb"
      },
      "source": [
        "import pandas as pd\n",
        "import numpy as np\n",
        "import sklearn\n",
        "\n",
        "from sklearn.datasets import load_boston\n",
        "df = load_boston()\n",
        "\n",
        "df.keys()\n",
        "\n",
        "boston = pd.DataFrame(df.data, columns=df.feature_names)\n",
        "boston.head()\n",
        "\n",
        "boston['MEDV'] = df.target\n",
        "boston.head()\n",
        "\n",
        "boston.isnull()\n",
        "\n",
        "boston.isnull().sum()\n",
        "\n",
        "from sklearn.model_selection import train_test_split\n",
        "X = boston.drop('MEDV', axis=1)\n",
        "Y = boston['MEDV']\n",
        "X_train, X_test, Y_train, Y_test = train_test_split(X, Y, test_size = 0.15, random_state=5)\n",
        "print(X_train.shape)\n",
        "print(X_test.shape)\n",
        "print(Y_train.shape)\n",
        "print(Y_test.shape)\n",
        "\n",
        "from sklearn.linear_model import LinearRegression\n",
        "from sklearn.metrics import mean_squared_error\n",
        "\n",
        "Lin_model = LinearRegression()\n",
        "Lin_model.fit(X_train, Y_train)\n",
        "\n",
        "Y_train_predict = Lin_model.predict(X_train)\n",
        "RMSE = (np.sqrt(mean_squared_error(Y_train, Y_train_predict)))\n",
        "print(\"The model performance(Training set) =\")\n",
        "print(\"RMSE is {}\".format(RMSE))\n",
        "print(\"\\n\")\n",
        "\n",
        "Y_test_predict = Lin_model.predict(X_test)\n",
        "RMSE = (np.sqrt(mean_squared_error(Y_test, Y_test_predict)))\n",
        "print(\"The model performance(Training set) is\")\n",
        "print(\"RMSE = {}\".format(RMSE))\n",
        "print(\"\\n\")"
      ],
      "execution_count": 1,
      "outputs": [
        {
          "output_type": "stream",
          "text": [
            "(430, 13)\n",
            "(76, 13)\n",
            "(430,)\n",
            "(76,)\n",
            "The model performance(Training set) =\n",
            "RMSE is 4.710901797319796\n",
            "\n",
            "\n",
            "The model performance(Training set) is\n",
            "RMSE = 4.687543527902972\n",
            "\n",
            "\n"
          ],
          "name": "stdout"
        }
      ]
    }
  ]
}